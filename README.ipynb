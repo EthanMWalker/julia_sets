{
 "cells": [
  {
   "cell_type": "markdown",
   "metadata": {},
   "source": [
    "# Julia Sets\n",
    "This activity is about exploring the beauty of mathematics through creating and displaying julia sets. \n",
    "\n",
    "## Dynamical Systems\n",
    "A dynamical system is defined by a function that ddescribes the time dependance of a point in space. In this activity we will be talking about complex dynamical systems. That is, dynamical systems of a complex variable. The systems that we will consider then are of the form:\n",
    "$F:\\mathbb{C}\\to\\mathbb{C}$.\n",
    "\n"
   ]
  },
  {
   "cell_type": "code",
   "execution_count": null,
   "metadata": {},
   "outputs": [],
   "source": []
  }
 ],
 "metadata": {
  "kernelspec": {
   "display_name": "Python 3",
   "language": "python",
   "name": "python3"
  },
  "language_info": {
   "codemirror_mode": {
    "name": "ipython",
    "version": 3
   },
   "file_extension": ".py",
   "mimetype": "text/x-python",
   "name": "python",
   "nbconvert_exporter": "python",
   "pygments_lexer": "ipython3",
   "version": "3.7.5rc1"
  }
 },
 "nbformat": 4,
 "nbformat_minor": 2
}
